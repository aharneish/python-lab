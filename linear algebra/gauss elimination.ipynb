{
 "cells": [
  {
   "cell_type": "markdown",
   "id": "730c500e",
   "metadata": {},
   "source": [
    "## GAUSS ELIMINATION"
   ]
  },
  {
   "cell_type": "markdown",
   "id": "92b80be2",
   "metadata": {},
   "source": [
    "user defined matrix guss elimination method\n"
   ]
  },
  {
   "cell_type": "code",
   "execution_count": 4,
   "id": "1dfb5732",
   "metadata": {},
   "outputs": [
    {
     "name": "stdout",
     "output_type": "stream",
     "text": [
      "enter the number of rows you want: 4\n",
      "enter the number of columns you want: 5\n",
      "enter the elements row wise for the matrix \n",
      "enter the elements for matrix 1\n",
      "1\n",
      "1\n",
      "1\n",
      "1\n",
      "1\n",
      "1\n",
      "1\n",
      "3\n",
      "3\n",
      "3\n",
      "1\n",
      "1\n",
      "2\n",
      "3\n",
      "3\n",
      "1\n",
      "3\n",
      "3\n",
      "3\n",
      "4\n",
      "before elemination\n",
      "[1, 1, 1, 1, 1]\n",
      "[1, 1, 3, 3, 3]\n",
      "[1, 1, 2, 3, 3]\n",
      "[1, 3, 3, 3, 4]\n"
     ]
    },
    {
     "ename": "IndexError",
     "evalue": "list index out of range",
     "output_type": "error",
     "traceback": [
      "\u001b[1;31m---------------------------------------------------------------------------\u001b[0m",
      "\u001b[1;31mIndexError\u001b[0m                                Traceback (most recent call last)",
      "Input \u001b[1;32mIn [4]\u001b[0m, in \u001b[0;36m<cell line: 56>\u001b[1;34m()\u001b[0m\n\u001b[0;32m     54\u001b[0m         a\u001b[38;5;241m.\u001b[39mappend(\u001b[38;5;28mint\u001b[39m(\u001b[38;5;28minput\u001b[39m()))\n\u001b[0;32m     55\u001b[0m     matrix\u001b[38;5;241m.\u001b[39mappend(a)\n\u001b[1;32m---> 56\u001b[0m elm_matrix\u001b[38;5;241m=\u001b[39m\u001b[43mgauss_elm\u001b[49m\u001b[43m(\u001b[49m\u001b[43mmatrix\u001b[49m\u001b[43m)\u001b[49m\n\u001b[0;32m     57\u001b[0m det(elm_matrix)\n\u001b[0;32m     58\u001b[0m r(elm_matrix)\n",
      "Input \u001b[1;32mIn [4]\u001b[0m, in \u001b[0;36mgauss_elm\u001b[1;34m(n)\u001b[0m\n\u001b[0;32m      7\u001b[0m \u001b[38;5;28;01mfor\u001b[39;00m i \u001b[38;5;129;01min\u001b[39;00m \u001b[38;5;28mrange\u001b[39m(k\u001b[38;5;241m+\u001b[39m\u001b[38;5;241m1\u001b[39m,\u001b[38;5;28mlen\u001b[39m(n)\u001b[38;5;241m+\u001b[39m\u001b[38;5;241m1\u001b[39m):\n\u001b[0;32m      8\u001b[0m     \u001b[38;5;28;01mif\u001b[39;00m n[k][k]\u001b[38;5;241m==\u001b[39m\u001b[38;5;241m0\u001b[39m:\n\u001b[1;32m----> 9\u001b[0m         n\u001b[38;5;241m=\u001b[39m\u001b[43mswap\u001b[49m\u001b[43m(\u001b[49m\u001b[43mn\u001b[49m\u001b[43m,\u001b[49m\u001b[43mk\u001b[49m\u001b[43m,\u001b[49m\u001b[43mi\u001b[49m\u001b[43m)\u001b[49m\n\u001b[0;32m     10\u001b[0m     \u001b[38;5;28;01melse\u001b[39;00m:\n\u001b[0;32m     11\u001b[0m         \u001b[38;5;28;01mif\u001b[39;00m n[k][i]\u001b[38;5;241m/\u001b[39mn[k][k]\u001b[38;5;241m!=\u001b[39m\u001b[38;5;241m0\u001b[39m:\n",
      "Input \u001b[1;32mIn [4]\u001b[0m, in \u001b[0;36mswap\u001b[1;34m(m, n, k)\u001b[0m\n\u001b[0;32m     25\u001b[0m temp\u001b[38;5;241m=\u001b[39m[]\n\u001b[0;32m     26\u001b[0m temp\u001b[38;5;241m=\u001b[39mm[n]\n\u001b[1;32m---> 27\u001b[0m m[n]\u001b[38;5;241m=\u001b[39m\u001b[43mm\u001b[49m\u001b[43m[\u001b[49m\u001b[43mk\u001b[49m\u001b[43m]\u001b[49m\n\u001b[0;32m     28\u001b[0m m[k]\u001b[38;5;241m=\u001b[39mtemp\n\u001b[0;32m     29\u001b[0m \u001b[38;5;28;01mreturn\u001b[39;00m m\n",
      "\u001b[1;31mIndexError\u001b[0m: list index out of range"
     ]
    }
   ],
   "source": [
    "#gauss elimination function\n",
    "def gauss_elm(n):\n",
    "    print(\"before elemination\")\n",
    "    for i in range(0,len(n)):\n",
    "        print(n[i])\n",
    "    for k in range(0,len(n)):\n",
    "        for i in range(k+1,len(n)+1):\n",
    "            if n[k][k]==0:\n",
    "                n=swap(n,k,i)\n",
    "            else:\n",
    "                if n[k][i]/n[k][k]!=0:\n",
    "                    l=n[k][i]/n[k][k]\n",
    "                for j in range(0,len(n)):\n",
    "                    n[k][j]=n[k][j]-l*n[k][j]\n",
    "    print(\"after elemination\")\n",
    "    for i in range(0,len(n)):\n",
    "        print(n[i])\n",
    "    return n\n",
    "\n",
    "#swap function\n",
    "def swap(m,n,k):\n",
    "    #n is the row to be swapped\n",
    "    #k is the row it is being swapped with\n",
    "    #temp is a variable which has the row to be swapped into itself\n",
    "    temp=[]\n",
    "    temp=m[n]\n",
    "    m[n]=m[k]\n",
    "    m[k]=temp\n",
    "    return m\n",
    "\n",
    "#determinant function\n",
    "def det(m):\n",
    "    det=1\n",
    "    for i in range(len(m)):\n",
    "        det=det*(m[i][i])\n",
    "    print(f\"the detrminant of the matrix is {det}\")\n",
    "#rank function\n",
    "def r(m):\n",
    "    rank=0\n",
    "    for i in range(len(m)):\n",
    "        if m[i][i]!=0:\n",
    "            rank+=1\n",
    "    print(f\"the rank of the matrix is {rank}\")\n",
    "    \n",
    "#the main program\n",
    "matrix=[]\n",
    "n1=int(input(\"enter the number of rows you want: \"))\n",
    "n2=int(input(\"enter the number of columns you want: \"))\n",
    "print(\"enter the elements row wise for the matrix \")\n",
    "print(\"enter the elements for matrix 1\")\n",
    "for i in range(n1):\n",
    "    a=[]\n",
    "    for j in range(n2):\n",
    "        a.append(int(input()))\n",
    "    matrix.append(a)\n",
    "elm_matrix=gauss_elm(matrix)\n",
    "det(elm_matrix)\n",
    "r(elm_matrix)"
   ]
  },
  {
   "cell_type": "markdown",
   "id": "471988f6",
   "metadata": {},
   "source": [
    "# if one of the rows after gauss elimination is zero and there is a row below it non zero then swap\n"
   ]
  },
  {
   "cell_type": "code",
   "execution_count": null,
   "id": "5cd90575",
   "metadata": {},
   "outputs": [],
   "source": [
    "n=[[1,2,3],[0,0,1],[0,1,2]]\n",
    "print(n)\n",
    "temp=[]\n",
    "for i in range(1,len(n[0])):\n",
    "    for j in range(1,len(n[1])):\n",
    "        if n[i][i]==0:\n",
    "                temp=n[i]\n",
    "                n[i]=n[j]\n",
    "                n[j]=temp\n",
    "print(n)"
   ]
  }
 ],
 "metadata": {
  "kernelspec": {
   "display_name": "Python 3 (ipykernel)",
   "language": "python",
   "name": "python3"
  },
  "language_info": {
   "codemirror_mode": {
    "name": "ipython",
    "version": 3
   },
   "file_extension": ".py",
   "mimetype": "text/x-python",
   "name": "python",
   "nbconvert_exporter": "python",
   "pygments_lexer": "ipython3",
   "version": "3.9.13"
  }
 },
 "nbformat": 4,
 "nbformat_minor": 5
}
