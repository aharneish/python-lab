{
 "cells": [
  {
   "cell_type": "markdown",
   "id": "fe1acefe",
   "metadata": {},
   "source": [
    "Solve the following system:\n",
    "$$\n",
    "    x_1+x_2+x_3+x_4 = 1,\n",
    "$$\n",
    "$$\n",
    "    x_1+x_2+3x_3+3x_4 = 3,\n",
    "$$\n",
    "$$\n",
    "    x_1+x_2+2x_3+3x_4 = 3,\n",
    "$$\n",
    "$$\n",
    "    x_1+3x_2+3x_3+3x_4 = 4.\n",
    "$$"
   ]
  },
  {
   "cell_type": "markdown",
   "id": "482aa5da",
   "metadata": {},
   "source": [
    "# Gauss Elimnation"
   ]
  },
  {
   "cell_type": "code",
   "execution_count": 19,
   "id": "db3c6a69",
   "metadata": {},
   "outputs": [],
   "source": [
    "def gauss_elm(n):\n",
    "    print(\"before elemination\")\n",
    "    for i in range(0,len(n)):\n",
    "        print(n[i])\n",
    "    for k in range(0,len(n)-1):\n",
    "        for i in range(k+1,len(n)):\n",
    "            if n[k][k]==0:\n",
    "                n=swap(n,k,i)\n",
    "            else:\n",
    "                if n[k][k]!=0:\n",
    "                    l = n[i][k]/n[k][k]\n",
    "                for j in range(0,len(n[0])):\n",
    "                    n[i][j] = n[i][j] - l*n[k][j]\n",
    "    print(\"after elemination\")\n",
    "    for i in range(0,len(n)):\n",
    "        print(n[i])\n",
    "    return n"
   ]
  },
  {
   "cell_type": "markdown",
   "id": "85ae7670",
   "metadata": {},
   "source": [
    "# Back substitution"
   ]
  },
  {
   "cell_type": "code",
   "execution_count": 3,
   "id": "930ae16b",
   "metadata": {},
   "outputs": [],
   "source": [
    "def back_sub(mat):\n",
    "    N=len(mat)\n",
    "    x = [None for _ in range(N)]    # An array to store solution\n",
    "    for i in range(N-1, -1, -1):\n",
    "        x[i] = mat[i][N]\n",
    "        for j in range(i + 1, N):\n",
    "            x[i] -= mat[i][j]*x[j]\n",
    "        if mat[i][i]!=0:\n",
    "            x[i] = (x[i]/mat[i][i])\n",
    "    print(\"\\nSolution for the system:\")\n",
    "    for i in range(N):\n",
    "        print(\"{:.8f}\".format(x[i]))"
   ]
  },
  {
   "cell_type": "markdown",
   "id": "db8ff02a",
   "metadata": {},
   "source": [
    "# Swaping function"
   ]
  },
  {
   "cell_type": "code",
   "execution_count": 4,
   "id": "b7aaaaa8",
   "metadata": {},
   "outputs": [],
   "source": [
    "#swap function\n",
    "def swap(m,n,k):\n",
    "    #n is the row to be swapped\n",
    "    #k is the row it is being swapped with\n",
    "    #temp is a variable which has the row to be swapped into itself\n",
    "    if k<len(m):\n",
    "        temp=[]\n",
    "        temp=m[n]\n",
    "        m[n]=m[k]\n",
    "        m[k]=temp\n",
    "    return m"
   ]
  },
  {
   "cell_type": "markdown",
   "id": "997854e2",
   "metadata": {},
   "source": [
    "# Determinant of the Matrix"
   ]
  },
  {
   "cell_type": "code",
   "execution_count": 5,
   "id": "8d95b4ff",
   "metadata": {},
   "outputs": [],
   "source": [
    "#determinant function\n",
    "def det(m,n1,n2):\n",
    "    det=1\n",
    "    if n1>n2 or n1<n2:\n",
    "        print(\"determinant doesn't exist for a rectangular matrix \")\n",
    "        return\n",
    "    for i in range(len(m)):\n",
    "        det=det*(m[i][i])\n",
    "    print(f\"the detrminant of the matrix is {det}\")"
   ]
  },
  {
   "cell_type": "markdown",
   "id": "836d04d8",
   "metadata": {},
   "source": [
    "# Rank of the Matrix"
   ]
  },
  {
   "cell_type": "code",
   "execution_count": 6,
   "id": "351331dc",
   "metadata": {},
   "outputs": [],
   "source": [
    "#rank function\n",
    "def r(m):\n",
    "    rank=0\n",
    "    for i in range(len(m)):\n",
    "        if m[i][i]!=0:\n",
    "            rank+=1\n",
    "    print(f\"the rank of the matrix is {rank}\")"
   ]
  },
  {
   "cell_type": "markdown",
   "id": "d03db215",
   "metadata": {},
   "source": [
    "# Main Program"
   ]
  },
  {
   "cell_type": "code",
   "execution_count": 21,
   "id": "257d23c1",
   "metadata": {},
   "outputs": [
    {
     "name": "stdout",
     "output_type": "stream",
     "text": [
      "enter the number of rows you want: 4\n",
      "enter the number of columns you want: 5\n",
      "enter the elements row wise for matrix \n",
      "for the row 0 enter the elements\n",
      "1\n",
      "1\n",
      "1\n",
      "1\n",
      "1\n",
      "for the row 1 enter the elements\n",
      "1\n",
      "1\n",
      "3\n",
      "3\n",
      "3\n",
      "for the row 2 enter the elements\n",
      "1\n",
      "1\n",
      "2\n",
      "3\n",
      "3\n",
      "for the row 3 enter the elements\n",
      "1\n",
      "3\n",
      "3\n",
      "3\n",
      "4\n",
      " \n",
      "before elemination\n",
      "[1, 1, 1, 1, 1]\n",
      "[1, 1, 3, 3, 3]\n",
      "[1, 1, 2, 3, 3]\n",
      "[1, 3, 3, 3, 4]\n",
      "after elemination\n",
      "[1, 1, 1, 1, 1]\n",
      "[0.0, 2.0, 2.0, 2.0, 3.0]\n",
      "[0.0, 0.0, 2.0, 2.0, 2.0]\n",
      "[0.0, 0.0, 0.0, 1.0, 1.0]\n",
      " \n",
      "determinant doesn't exist for a rectangular matrix \n",
      " \n",
      "the rank of the matrix is 4\n",
      " \n",
      "\n",
      "Solution for the system:\n",
      "-0.50000000\n",
      "0.50000000\n",
      "0.00000000\n",
      "1.00000000\n"
     ]
    }
   ],
   "source": [
    "#the main program\n",
    "matrix=[]\n",
    "ans=[]\n",
    "n1=int(input(\"enter the number of rows you want: \"))\n",
    "n2=int(input(\"enter the number of columns you want: \"))\n",
    "print(\"enter the elements row wise for matrix \")\n",
    "for i in range(n1):\n",
    "    print(f\"for the row {i} enter the elements\")\n",
    "    a=[]\n",
    "    for j in range(n2):\n",
    "        a.append(int(input()))\n",
    "    matrix.append(a)\n",
    "print(\" \")\n",
    "\n",
    "elm_matrix=gauss_elm(matrix)\n",
    "print(\" \")\n",
    "det(elm_matrix,n1,n2)\n",
    "print(\" \")\n",
    "r(elm_matrix)\n",
    "print(\" \")\n",
    "back_sub(elm_matrix)"
   ]
  }
 ],
 "metadata": {
  "kernelspec": {
   "display_name": "Python 3 (ipykernel)",
   "language": "python",
   "name": "python3"
  },
  "language_info": {
   "codemirror_mode": {
    "name": "ipython",
    "version": 3
   },
   "file_extension": ".py",
   "mimetype": "text/x-python",
   "name": "python",
   "nbconvert_exporter": "python",
   "pygments_lexer": "ipython3",
   "version": "3.9.13"
  }
 },
 "nbformat": 4,
 "nbformat_minor": 5
}
