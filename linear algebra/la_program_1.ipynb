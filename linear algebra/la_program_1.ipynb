{
 "cells": [
  {
   "cell_type": "code",
   "execution_count": null,
   "id": "44af7cd9",
   "metadata": {},
   "outputs": [],
   "source": [
    "import numpy as np\n",
    "from numpy import pi"
   ]
  },
  {
   "cell_type": "code",
   "execution_count": null,
   "id": "779121ae",
   "metadata": {},
   "outputs": [],
   "source": [
    "a=np.array([[1,2,3],[12,99,0],[91,71234,123,19]])"
   ]
  },
  {
   "cell_type": "code",
   "execution_count": null,
   "id": "afb175bd",
   "metadata": {},
   "outputs": [],
   "source": [
    "a.dtype"
   ]
  },
  {
   "cell_type": "code",
   "execution_count": null,
   "id": "1cf52456",
   "metadata": {},
   "outputs": [],
   "source": [
    "print(a)\n"
   ]
  },
  {
   "cell_type": "code",
   "execution_count": null,
   "id": "7ed9d200",
   "metadata": {},
   "outputs": [],
   "source": [
    "b=np.array([1.2,2.3,2.0,9.1])"
   ]
  },
  {
   "cell_type": "code",
   "execution_count": null,
   "id": "04635a93",
   "metadata": {},
   "outputs": [],
   "source": [
    "b.dtype"
   ]
  },
  {
   "cell_type": "code",
   "execution_count": null,
   "id": "ae3fbd24",
   "metadata": {},
   "outputs": [],
   "source": [
    "b"
   ]
  },
  {
   "cell_type": "code",
   "execution_count": null,
   "id": "2df3f681",
   "metadata": {},
   "outputs": [],
   "source": [
    "c=complex(12,12)\n",
    "d=complex(12,99)\n",
    "e=c+d\n",
    "e"
   ]
  },
  {
   "cell_type": "code",
   "execution_count": null,
   "id": "5d8241b6",
   "metadata": {},
   "outputs": [],
   "source": [
    "np.zeros((3,3))"
   ]
  },
  {
   "cell_type": "code",
   "execution_count": null,
   "id": "13a08c78",
   "metadata": {},
   "outputs": [],
   "source": [
    "e=np.ones((2,3,4),dtype=np.int64)"
   ]
  },
  {
   "cell_type": "code",
   "execution_count": null,
   "id": "300af77c",
   "metadata": {},
   "outputs": [],
   "source": [
    "e.dtype"
   ]
  },
  {
   "cell_type": "code",
   "execution_count": null,
   "id": "b683c173",
   "metadata": {},
   "outputs": [],
   "source": [
    "print(e)"
   ]
  },
  {
   "cell_type": "code",
   "execution_count": null,
   "id": "46d904b9",
   "metadata": {},
   "outputs": [],
   "source": [
    "np.linspace(0,2,9)"
   ]
  },
  {
   "cell_type": "code",
   "execution_count": null,
   "id": "c6fac7cf",
   "metadata": {},
   "outputs": [],
   "source": [
    "x=np.linspace(0,2*pi,100)"
   ]
  },
  {
   "cell_type": "code",
   "execution_count": null,
   "id": "77cb8e24",
   "metadata": {},
   "outputs": [],
   "source": [
    "f=np.sin(x)"
   ]
  },
  {
   "cell_type": "code",
   "execution_count": null,
   "id": "a5b5cb20",
   "metadata": {},
   "outputs": [],
   "source": [
    "y=np.linspace(0,pi/2,4)\n",
    "y"
   ]
  },
  {
   "cell_type": "code",
   "execution_count": null,
   "id": "0ae6b7ba",
   "metadata": {},
   "outputs": [],
   "source": [
    "np.sin(y)"
   ]
  },
  {
   "cell_type": "code",
   "execution_count": null,
   "id": "e73cd90c",
   "metadata": {},
   "outputs": [],
   "source": [
    "def trig(y):\n",
    "    print(f\"the sin values are {np.sin(y)}\")"
   ]
  },
  {
   "cell_type": "code",
   "execution_count": null,
   "id": "5e2f897d",
   "metadata": {},
   "outputs": [],
   "source": [
    "k=int(input(\"enter the angle for sin: \"))\n",
    "trig(k)"
   ]
  },
  {
   "cell_type": "code",
   "execution_count": null,
   "id": "578e4dd7",
   "metadata": {},
   "outputs": [],
   "source": [
    "b=np.arange(24).reshape(2,3,4)"
   ]
  },
  {
   "cell_type": "code",
   "execution_count": null,
   "id": "fa243845",
   "metadata": {},
   "outputs": [],
   "source": [
    "b"
   ]
  },
  {
   "cell_type": "code",
   "execution_count": null,
   "id": "00dee66f",
   "metadata": {},
   "outputs": [],
   "source": [
    "print(np.arange(1000).reshape(5,10,20))"
   ]
  },
  {
   "cell_type": "markdown",
   "id": "adc8237d",
   "metadata": {},
   "source": [
    "import sys\n",
    "np.set_printoptions(threshold=sys.maximize)"
   ]
  },
  {
   "cell_type": "code",
   "execution_count": null,
   "id": "b6bb91b7",
   "metadata": {},
   "outputs": [],
   "source": [
    "b=np.arange(12).reshape(3,4)\n",
    "b\n"
   ]
  },
  {
   "cell_type": "code",
   "execution_count": null,
   "id": "aa357521",
   "metadata": {},
   "outputs": [],
   "source": [
    "b.sum(axis=1)"
   ]
  },
  {
   "cell_type": "markdown",
   "id": "3772c58c",
   "metadata": {},
   "source": [
    "## date 6/8/2022\n",
    "matrix addtion and multiplication"
   ]
  },
  {
   "cell_type": "code",
   "execution_count": null,
   "id": "9964df4f",
   "metadata": {},
   "outputs": [],
   "source": [
    "#addtion of two matrices\n",
    "l1=[12,132,1]\n",
    "l2=[1,13,9]\n",
    "l3=[]\n",
    "for i in range(len(l1)):\n",
    "    l3.append(l1[i]+l2[i])\n",
    "l3"
   ]
  },
  {
   "cell_type": "code",
   "execution_count": null,
   "id": "1c46caad",
   "metadata": {},
   "outputs": [],
   "source": [
    "#multiplication of two matrices\n",
    "l1=l1=[[1,2,3],\n",
    "       [4,5,6],\n",
    "       [7,8,9]]\n",
    "l2=[[1,2,3],\n",
    "    [4,5,6],\n",
    "    [7,8,9]]\n",
    "l3=[[0,0,0],\n",
    "    [0,0,0],\n",
    "    [0,0,0]]\n",
    "print(l1)\n",
    "print(l2)\n",
    "for i in range(len(l1)):\n",
    "    for j in range(len(l2)):\n",
    "        for k in range(len(l2)):\n",
    "            l3[i][j]+=l1[i][k]*l2[k][j]\n",
    "for r in l3:\n",
    "    print(r)"
   ]
  },
  {
   "cell_type": "code",
   "execution_count": null,
   "id": "ef927d93",
   "metadata": {},
   "outputs": [],
   "source": [
    "#dot product\n",
    "l1=[12,132,4]\n",
    "l2=[1,13,9]\n",
    "l3=[]\n",
    "for i in range(len(l1)):\n",
    "    l3.append(l1[i]*l2[i])\n",
    "l3"
   ]
  },
  {
   "cell_type": "code",
   "execution_count": null,
   "id": "9538e1a2",
   "metadata": {},
   "outputs": [
    {
     "name": "stdout",
     "output_type": "stream",
     "text": [
      "enter the no of rows in matrix1:2\n",
      "enter the no of columns matrix1:2\n",
      "enter the no of rows in matrix2:2\n",
      "enter the no of columns matrix2:2\n",
      "enter the elements row wise for both the matrices \n",
      "enter the elements for matrix 1\n",
      "enter the element:1\n",
      "enter the element:2\n",
      "enter the element:3\n",
      "enter the element:4\n",
      "1\n",
      "2\n",
      "now enter the elements for matrix 2\n"
     ]
    }
   ],
   "source": [
    "#matrix multiplication by user inputs\n",
    "n1=[]\n",
    "n2=[]\n",
    "result=[]\n",
    "m1=int(input(\"enter the no of rows in matrix1:\"))\n",
    "m2=int(input(\"enter the no of columns matrix1:\"))\n",
    "p1=int(input(\"enter the no of rows in matrix2:\"))\n",
    "p2=int(input(\"enter the no of columns matrix2:\"))\n",
    "if m2!=p1:\n",
    "       print(\"matrix multiplication not possible since the size of bot the matrices are not equal\")\n",
    "else:\n",
    "    print(\"enter the elements row wise for both the matrices \")\n",
    "    print(\"enter the elements for matrix 1\")\n",
    "    for i in range(0,m1):\n",
    "        for j in range(0,m2):\n",
    "            s=int(input(\"enter the element:\"))\n",
    "            n1.append(s)\n",
    "    for i in range(0,m1):\n",
    "        print(n1[i])\n",
    "            \n",
    "    print(\"now enter the elements for matrix 2\")\n",
    "    for i in range(0,p1):\n",
    "        for j in range(0,p2):\n",
    "            s=int(input(\"enter the element:\"))\n",
    "            n2.append(s)\n",
    "    print(n2)\n",
    "    #multiplication\n",
    "    for i in range(len(n1)):\n",
    "        for j in range(0,p1):\n",
    "            sum=0\n",
    "            result.append(sum+n1[i]*n2[j])\n",
    "    print(result)"
   ]
  },
  {
   "cell_type": "code",
   "execution_count": null,
   "id": "76a64d04",
   "metadata": {},
   "outputs": [],
   "source": []
  }
 ],
 "metadata": {
  "kernelspec": {
   "display_name": "Python 3 (ipykernel)",
   "language": "python",
   "name": "python3"
  },
  "language_info": {
   "codemirror_mode": {
    "name": "ipython",
    "version": 3
   },
   "file_extension": ".py",
   "mimetype": "text/x-python",
   "name": "python",
   "nbconvert_exporter": "python",
   "pygments_lexer": "ipython3",
   "version": "3.9.13"
  },
  "vscode": {
   "interpreter": {
    "hash": "a351977ee7b04894121f5cde6ee8599f2048b7534d4382db8d533ca73fe19004"
   }
  }
 },
 "nbformat": 4,
 "nbformat_minor": 5
}
