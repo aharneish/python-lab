{
 "cells": [
  {
   "cell_type": "markdown",
   "id": "c7fa675b",
   "metadata": {},
   "source": [
    "# Golden Section\n",
    "formula\n",
    "$$x_2=x_L+\\delta (x_R-x_L)\n",
    "x_1=x_R-\\delta (x_R-x_L) $$\n",
    "conditions\n",
    "\n",
    "$f(x_1)>f(x_2)$ then $I_i=[x_L,x_2]$\n",
    "$f(x_1)<f(x_2)$ then $I_i=[x_1,x_R]$\n",
    "$f(x_1)=f(x_2)$ then $I_i=[x_1,x_2]$"
   ]
  },
  {
   "cell_type": "code",
   "execution_count": 1,
   "id": "df1612a6",
   "metadata": {},
   "outputs": [],
   "source": [
    "import numpy as np\n",
    "import matplotlib.pyplot as plt"
   ]
  },
  {
   "cell_type": "code",
   "execution_count": 2,
   "id": "f4cafcb9",
   "metadata": {},
   "outputs": [
    {
     "data": {
      "image/png": "[encoded data removed]",
      "text/plain": [
       "<Figure size 432x288 with 1 Axes>"
      ]
     },
     "metadata": {
      "needs_background": "light"
     },
     "output_type": "display_data"
    },
    {
     "name": "stdout",
     "output_type": "stream",
     "text": [
      "enter the starting point for the left: -25\n",
      "enter the starting point for the right: 75\n",
      "for how many iterations do you want to do: 21\n",
      "for iteration 0 the values for xl,xr is [13.19660112501051,36.80339887498949]\n",
      "for iteration 1 the values for xl,xr is [36.803398874989476,51.393202250021034]\n",
      "for iteration 2 the values for xl,xr is [51.39320225002102,60.41019662496845]\n",
      "for iteration 3 the values for xl,xr is [60.41019662496845,65.98300562505257]\n",
      "for iteration 4 the values for xl,xr is [65.98300562505257,69.42719099991588]\n",
      "for iteration 5 the values for xl,xr is [69.42719099991588,71.55581462513669]\n",
      "for iteration 6 the values for xl,xr is [71.55581462513669,72.87137637477919]\n",
      "for iteration 7 the values for xl,xr is [72.87137637477917,73.68443825035752]\n",
      "for iteration 8 the values for xl,xr is [73.68443825035752,74.18693812442166]\n",
      "for iteration 9 the values for xl,xr is [74.18693812442166,74.49750012593586]\n",
      "for iteration 10 the values for xl,xr is [74.49750012593584,74.68943799848581]\n",
      "for iteration 11 the values for xl,xr is [74.68943799848581,74.80806212745003]\n",
      "for iteration 12 the values for xl,xr is [74.80806212745004,74.88137587103577]\n",
      "for iteration 13 the values for xl,xr is [74.88137587103579,74.92668625641426]\n",
      "for iteration 14 the values for xl,xr is [74.92668625641427,74.95468961462151]\n",
      "for iteration 15 the values for xl,xr is [74.95468961462153,74.97199664179274]\n",
      "for iteration 16 the values for xl,xr is [74.97199664179274,74.98269297282879]\n",
      "for iteration 17 the values for xl,xr is [74.98269297282877,74.98930366896397]\n",
      "for iteration 18 the values for xl,xr is [74.98930366896397,74.9933893038648]\n",
      "for iteration 19 the values for xl,xr is [74.99338930386482,74.99591436509915]\n",
      "for iteration 20 the values for xl,xr is [74.99591436509915,74.99747493876566]\n",
      "for iteration 21 the values for xl,xr is [74.99747493876565,74.9984394263335]\n",
      "the points after iteration 21 is [74.99747493876565,74.9984394263335]\n"
     ]
    }
   ],
   "source": [
    "f=lambda x: (x-3)**3\n",
    "y=[]\n",
    "X=np.linspace(-100,100,1000)\n",
    "for i in range(len(X)):\n",
    "    y.append(f(X[i]))\n",
    "#plt.figure(figsize=(20,10))\n",
    "plt.plot(X,y)\n",
    "plt.show()\n",
    "xl=float(input(\"enter the starting point for the left: \"))\n",
    "xr=float(input(\"enter the starting point for the right: \"))\n",
    "iter=int(input(\"for how many iterations do you want to do: \"))\n",
    "i=0\n",
    "x1=0\n",
    "x2=0\n",
    "delta=(np.sqrt(5)-1)/2\n",
    "#$$x_2=x_L+\\delta (x_R-x_L)\n",
    "#x_1=x_R-\\delta (x_R-x_L) \n",
    "while i<=iter:\n",
    "    x1=xr-delta*(xr-xl)\n",
    "    x2=xl+delta*(xr-xl)\n",
    "    if f(x1)>f(x2):\n",
    "        xr=x2\n",
    "        xl=xl\n",
    "    elif f(x1)<f(x2):\n",
    "        xl=x1\n",
    "        xr=xr\n",
    "    elif f(x1)==f(x2):\n",
    "        xl=x1\n",
    "        xr=x2\n",
    "    print(f\"for iteration {i} the values for xl,xr is [{x1},{x2}]\")\n",
    "    i=i+1\n",
    "print(f\"the points after iteration {iter} is [{x1},{x2}]\")"
   ]
  },
  {
   "cell_type": "markdown",
   "id": "41b67760",
   "metadata": {},
   "source": [
    "# netwon raphson method\n",
    "$$f(x)=x_1 ^ 3 + x_2 ^ 3-3 x_1 x_2$$\n"
   ]
  },
  {
   "cell_type": "code",
   "execution_count": 21,
   "id": "7a9d08ce",
   "metadata": {},
   "outputs": [
    {
     "name": "stdout",
     "output_type": "stream",
     "text": [
      "the jacobian matrix is: [[6*x, -3], [-3, 6*y]]\n"
     ]
    },
    {
     "data": {
      "text/latex": [
       "$\\displaystyle \\left[\\begin{matrix}0\\\\0\\end{matrix}\\right]$"
      ],
      "text/plain": [
       "Matrix([\n",
       "[0],\n",
       "[0]])"
      ]
     },
     "execution_count": 21,
     "metadata": {},
     "output_type": "execute_result"
    }
   ],
   "source": [
    "from sympy import symbols, diff\n",
    "from sympy.matrices import Matrix, Inverse, Transpose\n",
    "import numpy as np\n",
    "def grad_f():\n",
    "    x, y = symbols('x y', real = True)\n",
    "    f = x**3 + y**3 - 3*x*y #x1 and x2 are x and y\n",
    "    grad_f_trans = [diff(f,x),diff(f,y)] # using diff function from sympy to differentiate \n",
    "    #with respect to x and then with y to get grad f\n",
    "    return grad_f_trans\n",
    "def jacobi():      \n",
    "    gf = grad_f() #returns form the gradf_f function\n",
    "    x, y = symbols('x y', real = True) #real allows substitute values\n",
    "    j_matrix = [[diff(gf[0],x), diff(gf[0],y)],[diff(gf[1],x), diff(gf[1],y)]]\n",
    "    print(f\"the jacobian matrix is: {j_matrix}\")\n",
    "    return j_matrix\n",
    "\n",
    "\n",
    "\n",
    "def N_R_Method():    #takes j_matrix as an input\n",
    "    x0 = Matrix([0,0])\n",
    "    gf_trans = grad_f()\n",
    "    j_M = jacobi()\n",
    "    x, y = symbols('x y', real = True)\n",
    "    j_M = [[j_M[0][0].subs(x, x0[0]).subs(y, x0[1]), j_M[0][1].subs(x,x0[0]).subs(y,x0[1])],[j_M[1][0].subs(x,x0[0]).subs(y,x0[1]),j_M[1][1].subs(x,x0[0]).subs(y,x0[1])]]\n",
    "    j_M = Matrix(j_M)\n",
    "    j_inv = Inverse(j_M)\n",
    "    g_x0 = [gf_trans[0].subs(x,x0[0]).subs(y,x0[1]), gf_trans[1].subs(x,x0[0]).subs(y,x0[1])]\n",
    "    g_x0 = Matrix(g_x0)\n",
    "    for i in range(0,50):\n",
    "        x1 = x0 - j_inv * g_x0\n",
    "        x0 = x1\n",
    "    return x0\n",
    "N_R_Method()"
   ]
  },
  {
   "cell_type": "markdown",
   "id": "64b731f8",
   "metadata": {},
   "source": [
    "# gradient desent\n",
    "$$X_k+1 = X_k +r_k \\delta f(X_k)$$\n",
    "$r_k$ i s  fixed to 0.2 \n",
    "\n",
    "example question\n",
    "$$Maximize f(x)=x^4$$\n",
    "let the starting point $X_0$ be (1)"
   ]
  },
  {
   "cell_type": "code",
   "execution_count": 17,
   "id": "0e258b10",
   "metadata": {},
   "outputs": [
    {
     "data": {
      "image/png": "[encoded data removed]",
      "text/plain": [
       "<Figure size 432x288 with 1 Axes>"
      ]
     },
     "metadata": {
      "needs_background": "light"
     },
     "output_type": "display_data"
    },
    {
     "data": {
      "text/latex": [
       "$\\displaystyle -3.0$"
      ],
      "text/plain": [
       "-3.00000000000000"
      ]
     },
     "execution_count": 17,
     "metadata": {},
     "output_type": "execute_result"
    }
   ],
   "source": [
    "import numpy as np\n",
    "import matplotlib.pyplot as plt\n",
    "from sympy import *\n",
    "X=np.linspace(-50,50,100)\n",
    "\n",
    "x,y=symbols('x y',real=True)\n",
    "f=lambda x: np.sin(x)\n",
    "z=[]\n",
    "for i in range(len(X)):\n",
    "    z.append(f(X[i]))\n",
    "plt.plot(z,label=\"F(x)\")\n",
    "plt.legend(loc=1)\n",
    "plt.show()\n",
    "def gradf():\n",
    "    x=symbols('x',real=True)\n",
    "    f= x**4\n",
    "    gradf_trans=diff(f,x)\n",
    "    return gradf_trans\n",
    "def gradient_descent():\n",
    "    #Xk+1 = Xk + rk∇f1Xk2\n",
    "    x0=1\n",
    "    x=symbols('x',real=True)\n",
    "    r=0.02 #learning rate is fixed here\n",
    "    gf=gradf()\n",
    "    g_x0=gf.subs(x,x0)\n",
    "    for i in range(0,50):\n",
    "        x1=x0-r*g_x0\n",
    "        x0=x1\n",
    "    return x0\n",
    "gradient_descent()"
   ]
  },
  {
   "cell_type": "code",
   "execution_count": null,
   "id": "fd3b9c3c",
   "metadata": {},
   "outputs": [],
   "source": []
  },
  {
   "cell_type": "code",
   "execution_count": null,
   "id": "c60edd07",
   "metadata": {},
   "outputs": [],
   "source": []
  },
  {
   "cell_type": "code",
   "execution_count": null,
   "id": "4d87bb66",
   "metadata": {},
   "outputs": [],
   "source": []
  },
  {
   "cell_type": "code",
   "execution_count": null,
   "id": "d950a691",
   "metadata": {},
   "outputs": [],
   "source": []
  }
 ],
 "metadata": {
  "kernelspec": {
   "display_name": "Python 3 (ipykernel)",
   "language": "python",
   "name": "python3"
  },
  "language_info": {
   "codemirror_mode": {
    "name": "ipython",
    "version": 3
   },
   "file_extension": ".py",
   "mimetype": "text/x-python",
   "name": "python",
   "nbconvert_exporter": "python",
   "pygments_lexer": "ipython3",
   "version": "3.9.13"
  }
 },
 "nbformat": 4,
 "nbformat_minor": 5
}
