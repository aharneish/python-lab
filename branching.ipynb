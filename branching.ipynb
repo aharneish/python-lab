{
 "cells": [
  {
   "cell_type": "markdown",
   "metadata": {},
   "source": [
    "##BRANCHING STATMENTS"
   ]
  },
  {
   "cell_type": "markdown",
   "metadata": {},
   "source": [
    "if-else statments:\n",
    "if logicalstatment:\n",
    "    code block\n",
    "else:\n",
    "    codeblock\n",
    "if logicalstatment:\n",
    "    codeblock\n",
    "elif logicalstatment:\n",
    "    codeblock\n",
    "elif logicalstatment:\n",
    "    codeblock\n",
    "else :\n",
    "    codeblock"
   ]
  },
  {
   "cell_type": "code",
   "execution_count": 12,
   "metadata": {},
   "outputs": [],
   "source": [
    "def adder(a,b,c):\n",
    "    '''to calaculate the sum of 3 numbers/strings\n",
    "    date: 1/08/22\n",
    "    autor: Aharneish'''\n",
    "    out=a+b+c\n",
    "    return out"
   ]
  },
  {
   "cell_type": "code",
   "execution_count": 13,
   "metadata": {},
   "outputs": [
    {
     "data": {
      "text/plain": [
       "'123'"
      ]
     },
     "execution_count": 13,
     "metadata": {},
     "output_type": "execute_result"
    }
   ],
   "source": [
    "adder(\"1\",\"2\",\"3\")"
   ]
  },
  {
   "cell_type": "code",
   "execution_count": 14,
   "metadata": {},
   "outputs": [
    {
     "data": {
      "text/plain": [
       "6"
      ]
     },
     "execution_count": 14,
     "metadata": {},
     "output_type": "execute_result"
    }
   ],
   "source": [
    "adder(1,2,3)"
   ]
  },
  {
   "cell_type": "code",
   "execution_count": 15,
   "metadata": {},
   "outputs": [
    {
     "name": "stdout",
     "output_type": "stream",
     "text": [
      "\u001b[1;31mSignature:\u001b[0m \u001b[0madder\u001b[0m\u001b[1;33m(\u001b[0m\u001b[0ma\u001b[0m\u001b[1;33m,\u001b[0m \u001b[0mb\u001b[0m\u001b[1;33m,\u001b[0m \u001b[0mc\u001b[0m\u001b[1;33m)\u001b[0m\u001b[1;33m\u001b[0m\u001b[1;33m\u001b[0m\u001b[0m\n",
      "\u001b[1;31mDocstring:\u001b[0m\n",
      "to calaculate the sum of 3 numbers/strings\n",
      "date: 1/08/22\n",
      "autor: Aharneish\n",
      "\u001b[1;31mFile:\u001b[0m      c:\\users\\msc 1\\appdata\\local\\temp\\ipykernel_4616\\619846885.py\n",
      "\u001b[1;31mType:\u001b[0m      function\n"
     ]
    }
   ],
   "source": [
    "adder?"
   ]
  },
  {
   "cell_type": "code",
   "execution_count": 16,
   "metadata": {},
   "outputs": [],
   "source": [
    "import numpy as np\n",
    "def dist_xyz(x,y,z):\n",
    "    \"\"\"_summary_\n",
    "\n",
    "    Args:\n",
    "        x (_type_): _description_\n",
    "        y (_type_): _description_\n",
    "        z (_type_): _description_\n",
    "    \"\"\"\n",
    "    def dist_xy(x,y):\n",
    "        \"\"\"_summary_\n",
    "\n",
    "        Args:\n",
    "            x (_type_): _description_\n",
    "            y (_type_): _description_\n",
    "        \"\"\"\n",
    "        out=np.sqrt((x[0]-y[0])**2+(x[1]-y[1])**2+(x[2]-y[2])**2)\n",
    "        return out\n",
    "    d0=dist_xy(x,y)\n",
    "    d1=dist_xy(x,z)\n",
    "    d2=dist_xy(y,z)\n",
    "    return [d0,d1,d2],d0+d1+d2"
   ]
  },
  {
   "cell_type": "code",
   "execution_count": 17,
   "metadata": {},
   "outputs": [
    {
     "name": "stdout",
     "output_type": "stream",
     "text": [
      "([24.492856101320644, 12.02746856158851, 17.159254063041317], 53.67957872595047)\n"
     ]
    }
   ],
   "source": [
    "x=[12,33,1.9]\n",
    "y=[23,12.3,9]\n",
    "z=[10,23.5,9]\n",
    "print(dist_xyz(x,y,z))"
   ]
  },
  {
   "cell_type": "code",
   "execution_count": 29,
   "metadata": {},
   "outputs": [
    {
     "name": "stdout",
     "output_type": "stream",
     "text": [
      "both the vectors muct have the same dimensions\n"
     ]
    }
   ],
   "source": [
    "import math\n",
    "def dist_Xy(x,y):\n",
    "    \"\"\"takes in two points which can be of n dimensions and computes the distance between the two points \n",
    "    date: 1/08/2022\n",
    "    Author: Abburu Aharneish\n",
    "    Args:\n",
    "        x (_type_):  tuple\n",
    "        y (_type_):  tuple\n",
    "    output: the deistance between them\n",
    "    \"\"\"\n",
    "    out=0\n",
    "    length=len(x)\n",
    "    for i in range(length):\n",
    "        out+=math.sqrt((x[i]-y[i])**2)\n",
    "    return out\n",
    "x=[]\n",
    "y=[]\n",
    "n=int(input(\"enter the dimension of the first vector: \"))\n",
    "n2=int(input(\"enter the dimension of the second vector: \"))\n",
    "if n==n2:\n",
    "    print(\"now for the x vector: \")\n",
    "    for i in range(n):\n",
    "        x.append(int(input(\"enter the points \")))\n",
    "    print(\"now for the y vector: \")\n",
    "    for i in range(n2):\n",
    "        y.append(int(input(\"enter the points \")))\n",
    "    print(x)\n",
    "    print(y)\n",
    "    print(dist_Xy(x,y))\n",
    "else:\n",
    "    print(\"both the vectors must have the same dimensions\")\n"
   ]
  },
  {
   "cell_type": "markdown",
   "metadata": {},
   "source": [
    "compute the roots of $$ax^2+b+c$$\n"
   ]
  },
  {
   "cell_type": "code",
   "execution_count": 14,
   "metadata": {},
   "outputs": [
    {
     "name": "stdout",
     "output_type": "stream",
     "text": [
      "enter the coeffecient for x^2: 0\n",
      "enter the coeffecient for x: 2\n",
      "enter the constant: 3\n",
      "the quadratic equation is 0*x^2+2*x+3\n",
      "the roots are: \n"
     ]
    },
    {
     "ename": "TypeError",
     "evalue": "cannot unpack non-iterable int object",
     "output_type": "error",
     "traceback": [
      "\u001b[1;31m---------------------------------------------------------------------------\u001b[0m",
      "\u001b[1;31mTypeError\u001b[0m                                 Traceback (most recent call last)",
      "Input \u001b[1;32mIn [14]\u001b[0m, in \u001b[0;36m<cell line: 24>\u001b[1;34m()\u001b[0m\n\u001b[0;32m     22\u001b[0m \u001b[38;5;28mprint\u001b[39m(\u001b[38;5;124mf\u001b[39m\u001b[38;5;124m\"\u001b[39m\u001b[38;5;124mthe quadratic equation is \u001b[39m\u001b[38;5;132;01m{\u001b[39;00ma\u001b[38;5;132;01m}\u001b[39;00m\u001b[38;5;124m*x^2+\u001b[39m\u001b[38;5;132;01m{\u001b[39;00mb\u001b[38;5;132;01m}\u001b[39;00m\u001b[38;5;124m*x+\u001b[39m\u001b[38;5;132;01m{\u001b[39;00mc\u001b[38;5;132;01m}\u001b[39;00m\u001b[38;5;124m\"\u001b[39m)\n\u001b[0;32m     23\u001b[0m \u001b[38;5;28mprint\u001b[39m(\u001b[38;5;124m\"\u001b[39m\u001b[38;5;124mthe roots are: \u001b[39m\u001b[38;5;124m\"\u001b[39m)\n\u001b[1;32m---> 24\u001b[0m \u001b[43mrootsOfEq\u001b[49m\u001b[43m(\u001b[49m\u001b[43ma\u001b[49m\u001b[43m,\u001b[49m\u001b[43mb\u001b[49m\u001b[43m,\u001b[49m\u001b[43mc\u001b[49m\u001b[43m)\u001b[49m\n",
      "Input \u001b[1;32mIn [14]\u001b[0m, in \u001b[0;36mrootsOfEq\u001b[1;34m(a, b, c)\u001b[0m\n\u001b[0;32m     14\u001b[0m \u001b[38;5;28;01mif\u001b[39;00m root1\u001b[38;5;241m==\u001b[39m\u001b[38;5;241m0\u001b[39m:\n\u001b[0;32m     15\u001b[0m     \u001b[38;5;28;01mif\u001b[39;00m root2\u001b[38;5;241m==\u001b[39m\u001b[38;5;241m-\u001b[39m\u001b[38;5;241m0\u001b[39m:\n\u001b[1;32m---> 16\u001b[0m         root1,root2\u001b[38;5;241m=\u001b[39m\u001b[38;5;241m0\u001b[39m\n\u001b[0;32m     17\u001b[0m \u001b[38;5;28mprint\u001b[39m(\u001b[38;5;124mf\u001b[39m\u001b[38;5;124m\"\u001b[39m\u001b[38;5;124mthe first root for the quadratic equation is: \u001b[39m\u001b[38;5;132;01m{\u001b[39;00mroot1\u001b[38;5;132;01m}\u001b[39;00m\u001b[38;5;124m\"\u001b[39m)\n\u001b[0;32m     18\u001b[0m \u001b[38;5;28mprint\u001b[39m(\u001b[38;5;124mf\u001b[39m\u001b[38;5;124m\"\u001b[39m\u001b[38;5;124mthe second root for the quadratic equation is: \u001b[39m\u001b[38;5;132;01m{\u001b[39;00mroot2\u001b[38;5;132;01m}\u001b[39;00m\u001b[38;5;124m\"\u001b[39m)\n",
      "\u001b[1;31mTypeError\u001b[0m: cannot unpack non-iterable int object"
     ]
    }
   ],
   "source": [
    "import math\n",
    "def rootsOfEq(a,b,c):\n",
    "    \"\"\"formula is (-b+-sqrt(b^2-4ac))/2a for any given quadratic equation\n",
    "    date: 4/8/22\n",
    "    author: Aharneish Abburu\"\"\"\n",
    "    d=b**2\n",
    "    e=4*a*c\n",
    "    f=d-e\n",
    "    if(d-e<0):\n",
    "        print(\"this equation has no real roots \")\n",
    "        return\n",
    "    root1=(-b+math.sqrt(d-e))/2*a\n",
    "    root2=(-b-math.sqrt(d-e))/2*a\n",
    "    if root1==0:\n",
    "        if root2==-0:\n",
    "            root1,root2=0\n",
    "    print(f\"the first root for the quadratic equation is: {root1}\")\n",
    "    print(f\"the second root for the quadratic equation is: {root2}\")\n",
    "a=int(input(\"enter the coeffecient for x^2: \"))\n",
    "b=int(input(\"enter the coeffecient for x: \"))\n",
    "c=int(input(\"enter the constant: \"))\n",
    "print(f\"the quadratic equation is {a}*x^2+{b}*x+{c}\")\n",
    "print(\"the roots are: \")\n",
    "rootsOfEq(a,b,c)"
   ]
  },
  {
   "cell_type": "code",
   "execution_count": null,
   "metadata": {},
   "outputs": [],
   "source": []
  },
  {
   "cell_type": "code",
   "execution_count": null,
   "metadata": {},
   "outputs": [],
   "source": []
  },
  {
   "cell_type": "code",
   "execution_count": null,
   "metadata": {},
   "outputs": [],
   "source": []
  },
  {
   "cell_type": "code",
   "execution_count": null,
   "metadata": {},
   "outputs": [],
   "source": []
  },
  {
   "cell_type": "code",
   "execution_count": null,
   "metadata": {},
   "outputs": [],
   "source": []
  },
  {
   "cell_type": "code",
   "execution_count": null,
   "metadata": {},
   "outputs": [],
   "source": []
  }
 ],
 "metadata": {
  "kernelspec": {
   "display_name": "Python 3 (ipykernel)",
   "language": "python",
   "name": "python3"
  },
  "language_info": {
   "codemirror_mode": {
    "name": "ipython",
    "version": 3
   },
   "file_extension": ".py",
   "mimetype": "text/x-python",
   "name": "python",
   "nbconvert_exporter": "python",
   "pygments_lexer": "ipython3",
   "version": "3.9.13"
  },
  "vscode": {
   "interpreter": {
    "hash": "a351977ee7b04894121f5cde6ee8599f2048b7534d4382db8d533ca73fe19004"
   }
  }
 },
 "nbformat": 4,
 "nbformat_minor": 2
}
